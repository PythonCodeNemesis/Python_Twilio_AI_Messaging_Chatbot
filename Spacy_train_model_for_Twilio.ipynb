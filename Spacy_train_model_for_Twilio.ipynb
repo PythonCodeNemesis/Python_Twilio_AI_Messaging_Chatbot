{
  "cells": [
    {
      "cell_type": "markdown",
      "metadata": {
        "id": "7gEh1giXeIKL"
      },
      "source": [
        "## Named Entity Recognition"
      ]
    },
    {
      "cell_type": "markdown",
      "source": [],
      "metadata": {
        "id": "vI-uiHBXVHNu"
      }
    },
    {
      "cell_type": "markdown",
      "metadata": {
        "id": "xuqYZehqeNaL"
      },
      "source": [
        "- Information Extraction\n",
        "- Detect and classify the named entities in unstructured data"
      ]
    },
    {
      "cell_type": "code",
      "execution_count": null,
      "metadata": {
        "id": "_ZVAJWeLeGvR"
      },
      "outputs": [],
      "source": [
        "#load spacy\n",
        "import spacy"
      ]
    },
    {
      "cell_type": "code",
      "execution_count": null,
      "metadata": {
        "id": "jjKbFVYMLuLf"
      },
      "outputs": [],
      "source": [
        "nlp = spacy.load(\"en_core_web_sm\")"
      ]
    },
    {
      "cell_type": "code",
      "execution_count": null,
      "metadata": {
        "id": "7PNCVja7fVhr"
      },
      "outputs": [],
      "source": [
        "# Load English tokenizer, tagger, parser and NER\n",
        "nlp = spacy.load(\"en_core_web_sm\")"
      ]
    },
    {
      "cell_type": "code",
      "execution_count": null,
      "metadata": {
        "colab": {
          "base_uri": "https://localhost:8080/"
        },
        "id": "ocDDyTWd6RZz",
        "outputId": "ca7a59ee-d8a2-40bb-8c65-94e32ad86e8d"
      },
      "outputs": [
        {
          "name": "stdout",
          "output_type": "stream",
          "text": [
            "\u001b[38;5;2m✔ Download and installation successful\u001b[0m\n",
            "You can now load the package via spacy.load('en_core_web_lg')\n"
          ]
        }
      ],
      "source": [
        "import spacy.cli\n",
        "\n",
        "spacy.cli.download(\"en_core_web_lg\")"
      ]
    },
    {
      "cell_type": "code",
      "execution_count": null,
      "metadata": {
        "id": "4VGnE5RXfYmi"
      },
      "outputs": [],
      "source": [
        "# Process whole documents\n",
        "text = (\"Can you send a message to 876786868 with the message 'Hello, how are you?'\")\n",
        "doc = nlp(text)"
      ]
    },
    {
      "cell_type": "code",
      "execution_count": null,
      "metadata": {
        "colab": {
          "base_uri": "https://localhost:8080/"
        },
        "id": "zr2BvfJofatm",
        "outputId": "3b2248e3-4531-4008-adbb-a8983d396da2"
      },
      "outputs": [
        {
          "name": "stdout",
          "output_type": "stream",
          "text": [
            "Noun phrases: ['you', 'a message', 'the message', 'you']\n",
            "Verbs: ['send']\n"
          ]
        }
      ],
      "source": [
        "# Analyze syntax\n",
        "print(\"Noun phrases:\", [chunk.text for chunk in doc.noun_chunks])\n",
        "print(\"Verbs:\", [token.lemma_ for token in doc if token.pos_ == \"VERB\"])"
      ]
    },
    {
      "cell_type": "code",
      "execution_count": null,
      "metadata": {
        "id": "_BXeDh9dfdKe"
      },
      "outputs": [],
      "source": [
        "# Find named entities, phrases and concepts\n",
        "for entity in doc.ents:\n",
        "    print(entity.text, entity.label_)"
      ]
    },
    {
      "cell_type": "markdown",
      "metadata": {
        "id": "uQn6zn9nM2Q6"
      },
      "source": [
        "### Visualization"
      ]
    },
    {
      "cell_type": "code",
      "execution_count": null,
      "metadata": {
        "id": "60Y7qrzXazri"
      },
      "outputs": [],
      "source": [
        "from spacy import displacy"
      ]
    },
    {
      "cell_type": "code",
      "execution_count": null,
      "metadata": {
        "colab": {
          "base_uri": "https://localhost:8080/",
          "height": 107
        },
        "id": "jysHYn4yM1GN",
        "outputId": "3423637d-014e-4948-8bab-9ed6acee8d4a"
      },
      "outputs": [
        {
          "name": "stderr",
          "output_type": "stream",
          "text": [
            "/usr/local/lib/python3.10/dist-packages/spacy/displacy/__init__.py:215: UserWarning: [W006] No entities to visualize found in Doc object. If this is surprising to you, make sure the Doc was processed using a model that supports named entity recognition, and check the `doc.ents` property manually if necessary.\n",
            "  warnings.warn(Warnings.W006)\n"
          ]
        },
        {
          "data": {
            "text/html": [
              "<span class=\"tex2jax_ignore\"><div class=\"entities\" style=\"line-height: 2.5; direction: ltr\">Can you send a message to 876786868 with the message 'Hello, how are you?'</div></span>"
            ],
            "text/plain": [
              "<IPython.core.display.HTML object>"
            ]
          },
          "metadata": {},
          "output_type": "display_data"
        }
      ],
      "source": [
        "displacy.render(doc, style=\"ent\", jupyter=True)"
      ]
    },
    {
      "cell_type": "code",
      "execution_count": null,
      "metadata": {
        "colab": {
          "base_uri": "https://localhost:8080/"
        },
        "id": "1EHZRsJ2sTEP",
        "outputId": "50215bd1-9a2a-40a1-8880-ec0b2d3100f3"
      },
      "outputs": [
        {
          "name": "stdout",
          "output_type": "stream",
          "text": [
            "[(\"Send a message to +15551234567 with the message 'Hello'\", {'entities': [(18, 30, 'RECIPIENT_PHONE'), (49, 54, 'MESSAGE')]}), (\"Send a message to +15551234567 with the message: 'Hello'\", {'entities': [(18, 30, 'RECIPIENT_PHONE'), (50, 55, 'MESSAGE')]}), (\"Text +447891234567: 'Can you call me?'\", {'entities': [(5, 18, 'RECIPIENT_PHONE'), (20, 36, 'MESSAGE')]}), (\"Text +447891234567 'Can you call me?'\", {'entities': [(5, 18, 'RECIPIENT_PHONE'), (23, 36, 'MESSAGE')]}), (\"Send a text to +919876543210: 'I'll be there soon'\", {'entities': [(15, 28, 'RECIPIENT_PHONE'), (31, 49, 'MESSAGE')]}), (\"Send a text to +919876543210 'I'll be there soon'\", {'entities': [(15, 28, 'RECIPIENT_PHONE'), (30, 48, 'MESSAGE')]}), (\"Send the message 'Do you have any plans tonight?' to +336987654321.\", {'entities': [(18, 48, 'MESSAGE'), (53, 66, 'RECIPIENT_PHONE')]}), (\"Send the message: 'Do you have any plans tonight?' to +336987654321.\", {'entities': [(19, 49, 'MESSAGE'), (54, 67, 'RECIPIENT_PHONE')]}), (\"Text +819876543210: 'Remember to bring your ID.'\", {'entities': [(5, 18, 'RECIPIENT_PHONE'), (21, 47, 'MESSAGE')]}), (\"Text +819876543210 'Remember to bring your ID.'\", {'entities': [(5, 18, 'RECIPIENT_PHONE'), (20, 46, 'MESSAGE')]}), (\"Send a message to +4987654321098 with the content: 'Don't forget to buy milk.'\", {'entities': [(18, 32, 'RECIPIENT_PHONE'), (52, 77, 'MESSAGE')]}), (\"Send a message to +4987654321098 with the content 'Don't forget to buy milk.'\", {'entities': [(18, 32, 'RECIPIENT_PHONE'), (51, 76, 'MESSAGE')]}), (\"Send a message to +5551987654321: 'I need your help.'\", {'entities': [(18, 32, 'RECIPIENT_PHONE'), (35, 52, 'MESSAGE')]}), (\"Send a message to +5551987654321 'I need your help.'\", {'entities': [(18, 34, 'RECIPIENT_PHONE'), (34, 51, 'MESSAGE')]}), (\"Text +447612345678 and ask: 'Have you received the package?\", {'entities': [(5, 18, 'RECIPIENT_PHONE'), (29, 59, 'MESSAGE')]}), (\"Send a message to +6176543210987 saying 'Congratulations!'\", {'entities': [(18, 32, 'RECIPIENT_PHONE'), (41, 57, 'MESSAGE')]}), (\"Send the message 'Can we meet tomorrow?' to +639987654321.\", {'entities': [(18, 39, 'MESSAGE'), (44, 57, 'RECIPIENT_PHONE')]}), ('Please text +27123456789', {'entities': [(12, 24, 'RECIPIENT_PHONE')]}), (\"Text +441234567890: 'Let's grab dinner tonight.'\", {'entities': [(5, 18, 'RECIPIENT_PHONE'), (21, 47, 'MESSAGE')]}), (\"Send a message to +4912345678901 with the text 'Sorry for the delay.'\", {'entities': [(18, 32, 'RECIPIENT_PHONE'), (48, 68, 'MESSAGE')]})]\n"
          ]
        }
      ],
      "source": [
        "train = train = [\n",
        "    (\"Send a message to +15551234567 with the message 'Hello'\", {\"entities\": [(18, 30, \"RECIPIENT_PHONE\"), (49, 54, \"MESSAGE\")]}),\n",
        "    (\"Send a message to +15551234567 with the message: 'Hello'\", {\"entities\": [(18, 30, \"RECIPIENT_PHONE\"), (50, 55, \"MESSAGE\")]}),\n",
        "    (\"Text +447891234567: 'Can you call me?'\", {\"entities\": [(5, 18, \"RECIPIENT_PHONE\"), (20, 36, \"MESSAGE\")]}),\n",
        "    (\"Text +447891234567 'Can you call me?'\", {\"entities\": [(5, 18, \"RECIPIENT_PHONE\"), (23, 36, \"MESSAGE\")]}),\n",
        "    (\"Send a text to +919876543210: 'I'll be there soon'\", {\"entities\": [(15, 28, \"RECIPIENT_PHONE\"), (31, 49, \"MESSAGE\")]}),\n",
        "\n",
        "    (\"Send a text to +919876543210 'I'll be there soon'\", {\"entities\": [(15, 28, \"RECIPIENT_PHONE\"), (30, 48, \"MESSAGE\")]}),\n",
        "\n",
        "    (\"Send the message 'Do you have any plans tonight?' to +336987654321.\", {\"entities\": [(18, 48, \"MESSAGE\"), (53, 66, \"RECIPIENT_PHONE\")]}),\n",
        "\n",
        "    (\"Send the message: 'Do you have any plans tonight?' to +336987654321.\", {\"entities\": [(19, 49, \"MESSAGE\"), (54, 67, \"RECIPIENT_PHONE\")]}),\n",
        "\n",
        "    (\"Text +819876543210: 'Remember to bring your ID.'\", {\"entities\": [(5, 18, \"RECIPIENT_PHONE\"), (21, 47, \"MESSAGE\")]}),\n",
        "\n",
        "    (\"Text +819876543210 'Remember to bring your ID.'\", {\"entities\": [(5, 18, \"RECIPIENT_PHONE\"), (20, 46, \"MESSAGE\")]}),\n",
        "\n",
        "    (\"Send a message to +4987654321098 with the content: 'Don't forget to buy milk.'\", {\"entities\": [(18, 32, \"RECIPIENT_PHONE\"), (52, 77, \"MESSAGE\")]}),\n",
        "\n",
        "    (\"Send a message to +4987654321098 with the content 'Don't forget to buy milk.'\", {\"entities\": [(18, 32, \"RECIPIENT_PHONE\"), (51, 76, \"MESSAGE\")]}),\n",
        "\n",
        "    (\"Send a message to +5551987654321: 'I need your help.'\", {\"entities\": [(18, 32, \"RECIPIENT_PHONE\"), (35, 52, \"MESSAGE\")]}),\n",
        "\n",
        "    (\"Send a message to +5551987654321 'I need your help.'\", {\"entities\": [(18, 34, \"RECIPIENT_PHONE\"), (34, 51, \"MESSAGE\")]}),\n",
        "\n",
        "    (\"Text +447612345678 and ask: 'Have you received the package?\", {\"entities\": [(5, 18, \"RECIPIENT_PHONE\"), (29, 59, \"MESSAGE\")]}),\n",
        "\n",
        "    (\"Send a message to +6176543210987 saying 'Congratulations!'\", {\"entities\": [(18, 32, \"RECIPIENT_PHONE\"), (41, 57, \"MESSAGE\")]}),\n",
        "\n",
        "    (\"Send the message 'Can we meet tomorrow?' to +639987654321.\", {\"entities\": [(18, 39, \"MESSAGE\"), (44, 57, \"RECIPIENT_PHONE\")]}),\n",
        "\n",
        "    (\"Please text +27123456789\", {\"entities\": [(12, 24, \"RECIPIENT_PHONE\")]}),\n",
        "\n",
        "    (\"Text +441234567890: 'Let's grab dinner tonight.'\", {\"entities\": [(5, 18, \"RECIPIENT_PHONE\"), (21, 47, \"MESSAGE\")]}),\n",
        "\n",
        "    (\"Send a message to +4912345678901 with the text 'Sorry for the delay.'\", {\"entities\": [(18, 32, \"RECIPIENT_PHONE\"), (48, 68, \"MESSAGE\")]}),\n",
        "]\n",
        "# Print the updated training data\n",
        "print(train)\n"
      ]
    },
    {
      "cell_type": "code",
      "execution_count": null,
      "metadata": {
        "colab": {
          "base_uri": "https://localhost:8080/"
        },
        "id": "y8lTiLUMsXWv",
        "outputId": "5f4e798e-3368-4e0c-f4c3-a10d58d83918"
      },
      "outputs": [
        {
          "name": "stderr",
          "output_type": "stream",
          "text": [
            "100%|██████████| 20/20 [00:00<00:00, 770.86it/s]\n"
          ]
        }
      ],
      "source": [
        "import pandas as pd\n",
        "import os\n",
        "from tqdm import tqdm\n",
        "from spacy.tokens import DocBin\n",
        "\n",
        "db = DocBin() # create a DocBin object\n",
        "\n",
        "for text, annot in tqdm(train): # data in previous format\n",
        "    doc = nlp.make_doc(text) # create doc object from text\n",
        "    ents = []\n",
        "    for start, end, label in annot[\"entities\"]: # add character indexes\n",
        "        span = doc.char_span(start, end, label=label, alignment_mode=\"contract\")\n",
        "        if span is None:\n",
        "            print(\"Skipping entity\")\n",
        "        else:\n",
        "            ents.append(span)\n",
        "    doc.ents = ents # label the text with the ents\n",
        "    db.add(doc)\n",
        "\n",
        "db.to_disk(\"./train.spacy\") # save the docbin object"
      ]
    },
    {
      "cell_type": "code",
      "execution_count": null,
      "metadata": {
        "colab": {
          "base_uri": "https://localhost:8080/"
        },
        "id": "0agyyehbrVKH",
        "outputId": "b20d02b8-1fe8-4788-80c9-86c17c4874c3"
      },
      "outputs": [
        {
          "name": "stdout",
          "output_type": "stream",
          "text": [
            "2023-05-26 15:29:03.240470: W tensorflow/compiler/tf2tensorrt/utils/py_utils.cc:38] TF-TRT Warning: Could not find TensorRT\n",
            "\u001b[38;5;2m✔ Auto-filled config with all values\u001b[0m\n",
            "\u001b[38;5;2m✔ Saved config\u001b[0m\n",
            "config.cfg\n",
            "You can now add your data and train your pipeline:\n",
            "python -m spacy train config.cfg --paths.train ./train.spacy --paths.dev ./dev.spacy\n"
          ]
        }
      ],
      "source": [
        "!python -m spacy init fill-config base_config.cfg config.cfg"
      ]
    },
    {
      "cell_type": "code",
      "execution_count": null,
      "metadata": {
        "colab": {
          "background_save": true,
          "base_uri": "https://localhost:8080/"
        },
        "id": "BZfkU5pms6n-",
        "outputId": "4cb3ff84-acb0-44f2-ddcb-111b218191bf"
      },
      "outputs": [
        {
          "name": "stdout",
          "output_type": "stream",
          "text": [
            "2023-05-26 15:29:12.444742: W tensorflow/compiler/tf2tensorrt/utils/py_utils.cc:38] TF-TRT Warning: Could not find TensorRT\n",
            "\u001b[38;5;2m✔ Created output directory: output\u001b[0m\n",
            "\u001b[38;5;4mℹ Saving to output directory: output\u001b[0m\n",
            "\u001b[38;5;4mℹ Using CPU\u001b[0m\n",
            "\u001b[1m\n",
            "=========================== Initializing pipeline ===========================\u001b[0m\n",
            "[2023-05-26 15:29:15,405] [INFO] Set up nlp object from config\n",
            "[2023-05-26 15:29:15,423] [INFO] Pipeline: ['tok2vec', 'ner']\n",
            "[2023-05-26 15:29:15,428] [INFO] Created vocabulary\n",
            "[2023-05-26 15:29:19,029] [INFO] Added vectors: en_core_web_lg\n",
            "[2023-05-26 15:29:22,746] [INFO] Finished initializing nlp object\n",
            "[2023-05-26 15:29:23,127] [INFO] Initialized pipeline components: ['tok2vec', 'ner']\n",
            "\u001b[38;5;2m✔ Initialized pipeline\u001b[0m\n",
            "\u001b[1m\n",
            "============================= Training pipeline =============================\u001b[0m\n",
            "\u001b[38;5;4mℹ Pipeline: ['tok2vec', 'ner']\u001b[0m\n",
            "\u001b[38;5;4mℹ Initial learn rate: 0.001\u001b[0m\n",
            "E    #       LOSS TOK2VEC  LOSS NER  ENTS_F  ENTS_P  ENTS_R  SCORE \n",
            "---  ------  ------------  --------  ------  ------  ------  ------\n",
            "  0       0          0.00     52.00    0.00    0.00    0.00    0.00\n",
            " 78     200          3.86    762.26  100.00  100.00  100.00    1.00\n",
            "178     400          0.00      0.00  100.00  100.00  100.00    1.00\n",
            "278     600         24.63     83.07  100.00  100.00  100.00    1.00\n",
            "425     800          1.48      5.62  100.00  100.00  100.00    1.00\n",
            "625    1000          0.00      0.00  100.00  100.00  100.00    1.00\n",
            "825    1200          0.00      0.00  100.00  100.00  100.00    1.00\n",
            "1025    1400          0.00      0.00  100.00  100.00  100.00    1.00\n",
            "1225    1600          0.00      0.00  100.00  100.00  100.00    1.00\n",
            "1425    1800          0.00      0.00  100.00  100.00  100.00    1.00\n",
            "\u001b[38;5;2m✔ Saved pipeline to output directory\u001b[0m\n",
            "output/model-last\n"
          ]
        }
      ],
      "source": [
        "!python -m spacy train config.cfg --output ./output --paths.train ./train.spacy --paths.dev ./train.spacy"
      ]
    },
    {
      "cell_type": "code",
      "execution_count": null,
      "metadata": {
        "colab": {
          "background_save": true
        },
        "id": "LOIcn8utsc3z",
        "outputId": "d64808e6-9d47-4d45-a5bd-d6cc3077cf1e"
      },
      "outputs": [
        {
          "data": {
            "text/plain": [
              "(you send a message to 8769786868 with the text, Hello, how are you?)"
            ]
          },
          "execution_count": 17,
          "metadata": {},
          "output_type": "execute_result"
        }
      ],
      "source": [
        "nlp1 = spacy.load(r\"./output/model-best\") #load the best model\n",
        "\n",
        "doc = nlp1(\"Can you send a message to 8769786868 with the text 'Hello, how are you?'\") # input sample text\n",
        "\n",
        "doc.ents"
      ]
    },
    {
      "cell_type": "code",
      "execution_count": null,
      "metadata": {
        "colab": {
          "background_save": true
        },
        "id": "TYZk4NKvsiHv",
        "outputId": "3433d60b-3d7a-436b-d746-1b4f12ffefb9"
      },
      "outputs": [
        {
          "name": "stdout",
          "output_type": "stream",
          "text": [
            "you send a message to 8769786868 with the text MESSAGE\n",
            "Hello, how are you? MESSAGE\n"
          ]
        }
      ],
      "source": [
        "# Find named entities, phrases and concepts\n",
        "for entity in doc.ents:\n",
        "    print(entity.text, entity.label_)"
      ]
    },
    {
      "cell_type": "code",
      "execution_count": null,
      "metadata": {
        "colab": {
          "background_save": true
        },
        "id": "t1tZ6cDasnDd",
        "outputId": "dff1a41f-e855-4b3b-97b2-8fd80070c13d"
      },
      "outputs": [
        {
          "name": "stdout",
          "output_type": "stream",
          "text": [
            "8769786868 RECIPIENT_PHONE\n",
            "Hello, how are you? MESSAGE\n"
          ]
        }
      ],
      "source": [
        "doc = nlp1(\"Send a message to 8769786868 with the message 'Hello, how are you?'\") # input sample text\n",
        "\n",
        "doc.ents\n",
        "\n",
        "# Find named entities, phrases and concepts\n",
        "for entity in doc.ents:\n",
        "    print(entity.text, entity.label_)"
      ]
    },
    {
      "cell_type": "code",
      "execution_count": null,
      "metadata": {
        "colab": {
          "background_save": true
        },
        "id": "lMJJj3yvsvgH",
        "outputId": "97b22493-2603-4220-c607-e6f430cbdf53"
      },
      "outputs": [
        {
          "name": "stdout",
          "output_type": "stream",
          "text": [
            "Hello, how are you? MESSAGE\n",
            "to 6789433789 MESSAGE\n"
          ]
        }
      ],
      "source": [
        "doc = nlp1(\"Send a the message 'Hello, how are you?' to 6789433789\") # input sample text\n",
        "\n",
        "doc.ents\n",
        "\n",
        "# Find named entities, phrases and concepts\n",
        "for entity in doc.ents:\n",
        "    print(entity.text, entity.label_)"
      ]
    },
    {
      "cell_type": "code",
      "execution_count": null,
      "metadata": {
        "colab": {
          "background_save": true
        },
        "id": "A812ZUu7srWK",
        "outputId": "0b9c9c99-c6ae-40ff-a1fe-ea98215e48c1"
      },
      "outputs": [
        {
          "name": "stdout",
          "output_type": "stream",
          "text": [
            "+15551234567 RECIPIENT_PHONE\n",
            "Hello MESSAGE\n"
          ]
        }
      ],
      "source": [
        "doc = nlp1(\"Send a message to +15551234567 with the message: 'Hello'\") # input sample text\n",
        "\n",
        "doc.ents\n",
        "\n",
        "# Find named entities, phrases and concepts\n",
        "for entity in doc.ents:\n",
        "    print(entity.text, entity.label_)\n"
      ]
    },
    {
      "cell_type": "code",
      "execution_count": null,
      "metadata": {
        "colab": {
          "base_uri": "https://localhost:8080/"
        },
        "id": "fG6x2088_b8m",
        "outputId": "186ee8db-164a-4387-e630-3a30a0a7e907"
      },
      "outputs": [
        {
          "output_type": "stream",
          "name": "stdout",
          "text": [
            "  adding: content/output/model-best/ (stored 0%)\n",
            "  adding: content/output/model-best/tokenizer (deflated 81%)\n",
            "  adding: content/output/model-best/vocab/ (stored 0%)\n",
            "  adding: content/output/model-best/vocab/vectors (deflated 8%)\n",
            "  adding: content/output/model-best/vocab/strings.json (deflated 77%)\n",
            "  adding: content/output/model-best/vocab/vectors.cfg (stored 0%)\n",
            "  adding: content/output/model-best/vocab/lookups.bin (stored 0%)\n",
            "  adding: content/output/model-best/vocab/key2row (deflated 16%)\n",
            "  adding: content/output/model-best/tok2vec/ (stored 0%)\n",
            "  adding: content/output/model-best/tok2vec/cfg (stored 0%)\n",
            "  adding: content/output/model-best/tok2vec/model (deflated 8%)\n",
            "  adding: content/output/model-best/ner/ (stored 0%)\n",
            "  adding: content/output/model-best/ner/moves (deflated 55%)\n",
            "  adding: content/output/model-best/ner/cfg (deflated 33%)\n",
            "  adding: content/output/model-best/ner/model (deflated 8%)\n",
            "  adding: content/output/model-best/config.cfg (deflated 60%)\n",
            "  adding: content/output/model-best/meta.json (deflated 60%)\n"
          ]
        }
      ],
      "source": [
        "!zip -r /content/model2.zip /content/output/model-best"
      ]
    },
    {
      "cell_type": "code",
      "execution_count": null,
      "metadata": {
        "colab": {
          "base_uri": "https://localhost:8080/",
          "height": 34
        },
        "id": "WGB4yQkg_15E",
        "outputId": "ef345bfe-37c5-477a-eb34-d5246087135f"
      },
      "outputs": [
        {
          "output_type": "display_data",
          "data": {
            "text/plain": [
              "<IPython.core.display.Javascript object>"
            ],
            "application/javascript": [
              "\n",
              "    async function download(id, filename, size) {\n",
              "      if (!google.colab.kernel.accessAllowed) {\n",
              "        return;\n",
              "      }\n",
              "      const div = document.createElement('div');\n",
              "      const label = document.createElement('label');\n",
              "      label.textContent = `Downloading \"${filename}\": `;\n",
              "      div.appendChild(label);\n",
              "      const progress = document.createElement('progress');\n",
              "      progress.max = size;\n",
              "      div.appendChild(progress);\n",
              "      document.body.appendChild(div);\n",
              "\n",
              "      const buffers = [];\n",
              "      let downloaded = 0;\n",
              "\n",
              "      const channel = await google.colab.kernel.comms.open(id);\n",
              "      // Send a message to notify the kernel that we're ready.\n",
              "      channel.send({})\n",
              "\n",
              "      for await (const message of channel.messages) {\n",
              "        // Send a message to notify the kernel that we're ready.\n",
              "        channel.send({})\n",
              "        if (message.buffers) {\n",
              "          for (const buffer of message.buffers) {\n",
              "            buffers.push(buffer);\n",
              "            downloaded += buffer.byteLength;\n",
              "            progress.value = downloaded;\n",
              "          }\n",
              "        }\n",
              "      }\n",
              "      const blob = new Blob(buffers, {type: 'application/binary'});\n",
              "      const a = document.createElement('a');\n",
              "      a.href = window.URL.createObjectURL(blob);\n",
              "      a.download = filename;\n",
              "      div.appendChild(a);\n",
              "      a.click();\n",
              "      div.remove();\n",
              "    }\n",
              "  "
            ]
          },
          "metadata": {}
        },
        {
          "output_type": "display_data",
          "data": {
            "text/plain": [
              "<IPython.core.display.Javascript object>"
            ],
            "application/javascript": [
              "download(\"download_2f3debec-e009-4431-82f4-71386dd8c508\", \"model2.zip\", 606158215)"
            ]
          },
          "metadata": {}
        }
      ],
      "source": [
        "from google.colab import files\n",
        "files.download(\"/content/model2.zip\")"
      ]
    }
  ],
  "metadata": {
    "colab": {
      "provenance": []
    },
    "kernelspec": {
      "display_name": "Python 3",
      "name": "python3"
    },
    "language_info": {
      "name": "python"
    }
  },
  "nbformat": 4,
  "nbformat_minor": 0
}